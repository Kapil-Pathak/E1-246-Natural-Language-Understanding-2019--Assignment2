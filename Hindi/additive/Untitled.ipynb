{
 "cells": [
  {
   "cell_type": "code",
   "execution_count": 5,
   "metadata": {},
   "outputs": [],
   "source": [
    "lines=open('eng_hindi.txt','r').readlines()\n",
    "eng=open('eng.txt','w+')\n",
    "hindi=open('hindi.txt','w+')\n",
    "for line in lines:\n",
    "    eng.write(line.split('\\t')[0])\n",
    "    hindi.write(line.split('\\t')[1])"
   ]
  }
 ],
 "metadata": {
  "kernelspec": {
   "display_name": "Python 3",
   "language": "python",
   "name": "python3"
  },
  "language_info": {
   "codemirror_mode": {
    "name": "ipython",
    "version": 3
   },
   "file_extension": ".py",
   "mimetype": "text/x-python",
   "name": "python",
   "nbconvert_exporter": "python",
   "pygments_lexer": "ipython3",
   "version": "3.6.7"
  }
 },
 "nbformat": 4,
 "nbformat_minor": 2
}

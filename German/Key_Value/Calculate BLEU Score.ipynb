{
 "cells": [
  {
   "cell_type": "code",
   "execution_count": 17,
   "metadata": {},
   "outputs": [
    {
     "name": "stdout",
     "output_type": "stream",
     "text": [
      "0.5928831581585664\n"
     ]
    }
   ],
   "source": [
    "import nltk\n",
    "import re\n",
    "from nltk.translate.bleu_score import sentence_bleu\n",
    "lines=open('Predictions.txt','r').readlines()\n",
    "bluescore=0\n",
    "for line in lines:\n",
    "    s = re.sub(r\"Truth : \", r\"\\tTruth :\\t\", line)\n",
    "    s = re.sub(r\"Prediction : \", r\"\\tPrediction :\\t\", s)\n",
    "    s = re.sub(r\"\\n\", r\"\", s)\n",
    "    bluescore+=sentence_bleu([s.split('\\t')[2]],s.split('\\t')[4],weights=(0.25,0.25,0.25,0.25)) \n",
    "print(bluescore/len(lines))"
   ]
  },
  {
   "cell_type": "code",
   "execution_count": null,
   "metadata": {},
   "outputs": [],
   "source": [
    "lines=open('Predictions.txt','r').readlines()\n",
    "bluescore=0\n",
    "for line in lines:\n",
    "    s = re.sub(r\"Truth : \", r\"\\tTruth :\\t\", line)\n",
    "    s = re.sub(r\"Prediction : \", r\"\\tPrediction :\\t\", s)\n",
    "    s = re.sub(r\"\\n\", r\"\", s)\n",
    "    bluescore+=sentence_bleu([s.split('\\t')[2]],s.split('\\t')[4],weights=(0.25,0.25,0.25,0.25)) \n",
    "print(bluescore/len(lines))"
   ]
  }
 ],
 "metadata": {
  "kernelspec": {
   "display_name": "Python 3",
   "language": "python",
   "name": "python3"
  },
  "language_info": {
   "codemirror_mode": {
    "name": "ipython",
    "version": 3
   },
   "file_extension": ".py",
   "mimetype": "text/x-python",
   "name": "python",
   "nbconvert_exporter": "python",
   "pygments_lexer": "ipython3",
   "version": "3.6.7"
  }
 },
 "nbformat": 4,
 "nbformat_minor": 2
}
